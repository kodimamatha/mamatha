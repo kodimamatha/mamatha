{
  "nbformat": 4,
  "nbformat_minor": 0,
  "metadata": {
    "colab": {
      "name": "Untitled1.ipynb",
      "provenance": []
    },
    "kernelspec": {
      "name": "python3",
      "display_name": "Python 3"
    },
    "language_info": {
      "name": "python"
    }
  },
  "cells": [
    {
      "cell_type": "code",
      "metadata": {
        "colab": {
          "base_uri": "https://localhost:8080/"
        },
        "id": "vxlOFSMFjsqP",
        "outputId": "5f6e37e2-b239-41d9-e4e0-44007005ba4b"
      },
      "source": [
        "from keras.datasets import mnist\n",
        "data = mnist.load_data()"
      ],
      "execution_count": 4,
      "outputs": [
        {
          "output_type": "stream",
          "text": [
            "Downloading data from https://storage.googleapis.com/tensorflow/tf-keras-datasets/mnist.npz\n",
            "11493376/11490434 [==============================] - 0s 0us/step\n"
          ],
          "name": "stdout"
        }
      ]
    },
    {
      "cell_type": "code",
      "metadata": {
        "id": "njEnv5fEkLcD"
      },
      "source": [
        "((x_train,y_train),(x_test,y_test)) = data"
      ],
      "execution_count": 6,
      "outputs": []
    },
    {
      "cell_type": "code",
      "metadata": {
        "id": "T87NubCoYOKI"
      },
      "source": [
        ""
      ],
      "execution_count": null,
      "outputs": []
    },
    {
      "cell_type": "code",
      "metadata": {
        "id": "smn7UeGSXmK3"
      },
      "source": [
        "x_train = x_train.reshape((x_train.shape[0], 28*28)).astype('float32')\n",
        "x_test = x_test.reshape((x_test.shape[0], 28*28)).astype('float32')"
      ],
      "execution_count": 7,
      "outputs": []
    },
    {
      "cell_type": "code",
      "metadata": {
        "id": "DLQh9qHpYSR-"
      },
      "source": [
        "x_train = x_train/255\n",
        "x_test = x_test/255"
      ],
      "execution_count": 8,
      "outputs": []
    },
    {
      "cell_type": "code",
      "metadata": {
        "colab": {
          "base_uri": "https://localhost:8080/"
        },
        "id": "mOl8ywWBYbqN",
        "outputId": "7c2c2504-02fc-47bc-cfdd-88ebd4e8fe65"
      },
      "source": [
        "from keras.utils import np_utils\n",
        "print(y_test.shape)\n",
        "y_train = np_utils.to_categorical(y_train)\n",
        "y_test = np_utils.to_categorical(y_test)\n",
        "num_classes = y_test.shape[1]"
      ],
      "execution_count": 11,
      "outputs": [
        {
          "output_type": "stream",
          "text": [
            "(10000,)\n"
          ],
          "name": "stdout"
        }
      ]
    },
    {
      "cell_type": "code",
      "metadata": {
        "id": "RpW-LlLvZE46"
      },
      "source": [
        "from keras.models import Sequential\n",
        "from keras.layers import Dense\n",
        "from keras.layers import Dropout"
      ],
      "execution_count": 12,
      "outputs": []
    },
    {
      "cell_type": "code",
      "metadata": {
        "id": "X5yIDaEdZb3p"
      },
      "source": [
        "#define model\n",
        "model = Sequential()\n",
        "#Add First hidden Layer\n",
        "model.add(Dense(32,input_dim = 28*28, activation='relu'))\n",
        "# Add Second Hidden Layer\n",
        "model.add(Dense(64, activation='relu'))\n",
        "#add output layer having 10 neurons(since there are  classese)\n",
        "model.add(Dense(10, activation='softmax'))"
      ],
      "execution_count": 18,
      "outputs": []
    },
    {
      "cell_type": "code",
      "metadata": {
        "id": "yI7t3hzkadnh"
      },
      "source": [
        "#compile model\n",
        "model.compile(loss='categorical_crossentropy', optimizer='adam', metrics=['accuracy'])"
      ],
      "execution_count": 19,
      "outputs": []
    },
    {
      "cell_type": "code",
      "metadata": {
        "colab": {
          "base_uri": "https://localhost:8080/"
        },
        "id": "AgurXqHIavBq",
        "outputId": "5e57b839-66d9-445b-eb03-f8be5320d6cb"
      },
      "source": [
        "#print model summary\n",
        "model.summary()"
      ],
      "execution_count": 20,
      "outputs": [
        {
          "output_type": "stream",
          "text": [
            "Model: \"sequential_1\"\n",
            "_________________________________________________________________\n",
            "Layer (type)                 Output Shape              Param #   \n",
            "=================================================================\n",
            "dense_1 (Dense)              (None, 32)                25120     \n",
            "_________________________________________________________________\n",
            "dense_2 (Dense)              (None, 64)                2112      \n",
            "_________________________________________________________________\n",
            "dense_3 (Dense)              (None, 10)                650       \n",
            "=================================================================\n",
            "Total params: 27,882\n",
            "Trainable params: 27,882\n",
            "Non-trainable params: 0\n",
            "_________________________________________________________________\n"
          ],
          "name": "stdout"
        }
      ]
    },
    {
      "cell_type": "code",
      "metadata": {
        "colab": {
          "base_uri": "https://localhost:8080/"
        },
        "id": "jsa1Rt-Sa3lp",
        "outputId": "9d72fbcc-e801-4152-b300-1e1203c4be8d"
      },
      "source": [
        "#Train model\n",
        "model.fit(x_train, y_train, validation_split=0.2, epochs=10, batch_size=100)"
      ],
      "execution_count": 22,
      "outputs": [
        {
          "output_type": "stream",
          "text": [
            "Epoch 1/10\n",
            "480/480 [==============================] - 2s 3ms/step - loss: 0.8298 - accuracy: 0.7608 - val_loss: 0.2430 - val_accuracy: 0.9303\n",
            "Epoch 2/10\n",
            "480/480 [==============================] - 1s 3ms/step - loss: 0.2313 - accuracy: 0.9324 - val_loss: 0.1909 - val_accuracy: 0.9445\n",
            "Epoch 3/10\n",
            "480/480 [==============================] - 1s 3ms/step - loss: 0.1811 - accuracy: 0.9462 - val_loss: 0.1619 - val_accuracy: 0.9541\n",
            "Epoch 4/10\n",
            "480/480 [==============================] - 1s 3ms/step - loss: 0.1488 - accuracy: 0.9565 - val_loss: 0.1470 - val_accuracy: 0.9595\n",
            "Epoch 5/10\n",
            "480/480 [==============================] - 1s 3ms/step - loss: 0.1246 - accuracy: 0.9641 - val_loss: 0.1362 - val_accuracy: 0.9607\n",
            "Epoch 6/10\n",
            "480/480 [==============================] - 1s 3ms/step - loss: 0.1109 - accuracy: 0.9671 - val_loss: 0.1374 - val_accuracy: 0.9595\n",
            "Epoch 7/10\n",
            "480/480 [==============================] - 1s 3ms/step - loss: 0.0916 - accuracy: 0.9734 - val_loss: 0.1275 - val_accuracy: 0.9622\n",
            "Epoch 8/10\n",
            "480/480 [==============================] - 1s 3ms/step - loss: 0.0878 - accuracy: 0.9735 - val_loss: 0.1196 - val_accuracy: 0.9668\n",
            "Epoch 9/10\n",
            "480/480 [==============================] - 2s 3ms/step - loss: 0.0788 - accuracy: 0.9769 - val_loss: 0.1198 - val_accuracy: 0.9653\n",
            "Epoch 10/10\n",
            "480/480 [==============================] - 2s 3ms/step - loss: 0.0706 - accuracy: 0.9786 - val_loss: 0.1284 - val_accuracy: 0.9645\n"
          ],
          "name": "stdout"
        },
        {
          "output_type": "execute_result",
          "data": {
            "text/plain": [
              "<tensorflow.python.keras.callbacks.History at 0x7f748e7bb610>"
            ]
          },
          "metadata": {
            "tags": []
          },
          "execution_count": 22
        }
      ]
    },
    {
      "cell_type": "code",
      "metadata": {
        "colab": {
          "base_uri": "https://localhost:8080/"
        },
        "id": "mMRT7wXYbU8X",
        "outputId": "344d8255-a648-475a-e577-e569f8ff9393"
      },
      "source": [
        "scores = model.evaluate(x_test, y_test)\n",
        "print(scores)"
      ],
      "execution_count": 23,
      "outputs": [
        {
          "output_type": "stream",
          "text": [
            "313/313 [==============================] - 1s 2ms/step - loss: 0.1195 - accuracy: 0.9659\n",
            "[0.11946289241313934, 0.9659000039100647]\n"
          ],
          "name": "stdout"
        }
      ]
    }
  ]
}